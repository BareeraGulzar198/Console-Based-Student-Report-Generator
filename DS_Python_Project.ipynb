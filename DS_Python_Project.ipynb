{
  "nbformat": 4,
  "nbformat_minor": 0,
  "metadata": {
    "colab": {
      "provenance": []
    },
    "kernelspec": {
      "name": "python3",
      "display_name": "Python 3"
    },
    "language_info": {
      "name": "python"
    }
  },
  "cells": [
    {
      "cell_type": "markdown",
      "source": [
        "# Student Information Management and Saving Data in CSV."
      ],
      "metadata": {
        "id": "Z8vIyxTvGwN3"
      }
    },
    {
      "cell_type": "code",
      "execution_count": null,
      "metadata": {
        "colab": {
          "base_uri": "https://localhost:8080/"
        },
        "id": "XUDgwn_t8osa",
        "outputId": "14a1db39-415c-4907-9b5f-eaa990e358b4"
      },
      "outputs": [
        {
          "output_type": "stream",
          "name": "stdout",
          "text": [
            "Enter student's name: Farzam\n",
            "Enter student's age: 18\n",
            "Enter student's class: 12\n",
            "Enter subjects with a comma: Chemistry, Biology\n",
            "Enter marks for Chemistry: 90\n",
            "Enter marks for Biology: 95\n",
            "Do you want to add another student? (yes/no): yes\n",
            "Enter student's name: Jannat\n",
            "Enter student's age: 17\n",
            "Enter student's class: 11\n",
            "Enter subjects with a comma: Maths, Physics \n",
            "Enter marks for Maths: 99\n",
            "Enter marks for Physics: 87\n",
            "Do you want to add another student? (yes/no): yes\n",
            "Enter student's name: Noreen\n",
            "Enter student's age: 16\n",
            "Enter student's class: 10\n",
            "Enter subjects with a comma: Ecommerce, Arts \n",
            "Enter marks for Ecommerce: 94\n",
            "Enter marks for Arts: 86\n",
            "Do you want to add another student? (yes/no): yes\n",
            "Enter student's name: Rohaba\n",
            "Enter student's age: 16\n",
            "Enter student's class: 10\n",
            "Enter subjects with a comma: Maths, Biology \n",
            "Enter marks for Maths: 54\n",
            "Enter marks for Biology: 67\n",
            "Do you want to add another student? (yes/no): yes \n",
            "\n",
            "All Student Records:\n",
            "{'name': 'Farzam', 'age': 18, 'class': '12', 'subjects': ['Chemistry', 'Biology'], 'marks': {'Chemistry': 90.0, 'Biology': 95.0}, 'grades': {'Chemistry': 'A+', 'Biology': 'A+'}}\n",
            "{'name': 'Jannat', 'age': 17, 'class': '11', 'subjects': ['Maths', 'Physics'], 'marks': {'Maths': 99.0, 'Physics': 87.0}, 'grades': {'Maths': 'A+', 'Physics': 'A'}}\n",
            "{'name': 'Noreen', 'age': 16, 'class': '10', 'subjects': ['Ecommerce', 'Arts'], 'marks': {'Ecommerce': 94.0, 'Arts': 86.0}, 'grades': {'Ecommerce': 'A+', 'Arts': 'A'}}\n",
            "{'name': 'Rohaba', 'age': 16, 'class': '10', 'subjects': ['Maths', 'Biology'], 'marks': {'Maths': 54.0, 'Biology': 67.0}, 'grades': {'Maths': 'F', 'Biology': 'C'}}\n"
          ]
        }
      ],
      "source": [
        "import csv\n",
        "\n",
        "# Function to save student data to a CSV file\n",
        "def save_to_csv(students, filename=\"students.csv\"):\n",
        "    with open(filename, 'w', newline='') as file: # w here means write\n",
        "        writer = csv.writer(file)\n",
        "        writer.writerow([\"Name\", \"Age\", \"Class\", \"Subjects\", \"Grades\"]) # this is the header row\n",
        "\n",
        "        # Loop through each student and write their data\n",
        "        for student in students:\n",
        "            subjects = \", \".join(student['grades'].keys())  # Join subjects\n",
        "            grades = \", \".join(student['grades'].values())  # Join grades\n",
        "            writer.writerow([student['name'], student['age'], student['class'], subjects, grades])\n",
        "\n",
        "# The master list to store student data\n",
        "students = []\n",
        "\n",
        "# Defining the function to take input from the user\n",
        "\n",
        "def student_info():\n",
        "    name = input(\"Enter student's name: \")\n",
        "    age = int(input(\"Enter student's age: \"))\n",
        "    class_name = input(\"Enter student's class: \")\n",
        "    subjects = input(\"Enter subjects with a comma: \").split(',')  # to add a list of subjects\n",
        "    subjects = [subject.strip() for subject in subjects]          # helps for cleaner output\n",
        "\n",
        "    marks = {}   # Define empty dictionary for marks\n",
        "    for subject in subjects:  # Iterate on each subject to get marks\n",
        "        mark = float(input(f\"Enter marks for {subject}: \"))\n",
        "        marks[subject] = mark  # In the marks dictionary, subject is the key and mark is the value so this is how the output will look\n",
        "\n",
        "    # Assigning grades based on marks\n",
        "    grades = {}  # Empty dictionary for grades\n",
        "    for subject, mark in marks.items():  # Assign grades based on marks\n",
        "        if mark >= 90:\n",
        "            grade = \"A+\"\n",
        "        elif mark >= 80:\n",
        "            grade = \"A\"\n",
        "        elif mark >= 70:\n",
        "            grade = \"B\"\n",
        "        elif mark >= 60:\n",
        "            grade = \"C\"\n",
        "        else:\n",
        "            grade = \"F\"\n",
        "        grades[subject] = grade  # Assigning grade based on marks and this is how the output will look\n",
        "\n",
        "    # Create student record   conecting is very important, so connecting the input from the user and creating a student record\n",
        "    student_record = {\n",
        "        \"name\": name,\n",
        "        \"age\": age,\n",
        "        \"class\": class_name,\n",
        "        \"subjects\": subjects,\n",
        "        \"marks\": marks,\n",
        "        \"grades\": grades\n",
        "    }\n",
        "\n",
        "    # Add this dictionary into the master list\n",
        "    students.append(student_record)\n",
        "\n",
        "# Now we need input from the user to fill the dictionaries with student records\n",
        "while True:\n",
        "    student_info()  # Collect data for a student\n",
        "\n",
        "    another = input(\"Do you want to add another student? (yes/no): \").lower()\n",
        "    if another != \"yes\":\n",
        "        break\n",
        "\n",
        "# After exiting, print all student records\n",
        "print(\"\\nAll Student Records:\")\n",
        "for student in students:\n",
        "    print(student)\n",
        "\n",
        "# Now save all the collected student data to a CSV file after collecting all data\n",
        "save_to_csv(students)"
      ]
    },
    {
      "cell_type": "markdown",
      "source": [
        "# View all Records"
      ],
      "metadata": {
        "id": "SoDXqVHR9Icu"
      }
    },
    {
      "cell_type": "code",
      "source": [
        "# To display all the records nicely, for loop will be used\n",
        "\n",
        "for student in students:\n",
        "    print(f\"Name: {student['name']}\") # cannot use double quotation marks inside if they are used outside.\n",
        "    print(f\"Age: {student['age']}\")\n",
        "    print(f\"Class: {student['class']}\")\n",
        "    print(f\"Subjects: {', '.join(student['subjects'])}\")  # Joining list elements with a comma\n",
        "\n",
        "    print(\"Marks:\")\n",
        "    for subject, mark in student['marks'].items():\n",
        "        print(f\"  {subject}: {mark}\")\n",
        "\n",
        "    print(\"Grades:\")\n",
        "    for subject, grade in student['grades'].items():\n",
        "        print(f\"  {subject}: {grade}\")\n"
      ],
      "metadata": {
        "colab": {
          "base_uri": "https://localhost:8080/"
        },
        "id": "1Dc4SrLJ83N3",
        "outputId": "50ef65b8-909a-47ce-bdc2-b0e22c5e0828"
      },
      "execution_count": null,
      "outputs": [
        {
          "output_type": "stream",
          "name": "stdout",
          "text": [
            "Name: Farzam\n",
            "Age: 18\n",
            "Class: 12\n",
            "Subjects: Chemistry, Biology\n",
            "Marks:\n",
            "  Chemistry: 90.0\n",
            "  Biology: 95.0\n",
            "Grades:\n",
            "  Chemistry: A+\n",
            "  Biology: A+\n",
            "Name: Jannat\n",
            "Age: 17\n",
            "Class: 11\n",
            "Subjects: Maths, Physics\n",
            "Marks:\n",
            "  Maths: 99.0\n",
            "  Physics: 87.0\n",
            "Grades:\n",
            "  Maths: A+\n",
            "  Physics: A\n",
            "Name: Noreen\n",
            "Age: 16\n",
            "Class: 10\n",
            "Subjects: Ecommerce, Arts\n",
            "Marks:\n",
            "  Ecommerce: 94.0\n",
            "  Arts: 86.0\n",
            "Grades:\n",
            "  Ecommerce: A+\n",
            "  Arts: A\n",
            "Name: Rohaba\n",
            "Age: 16\n",
            "Class: 10\n",
            "Subjects: Maths, Biology\n",
            "Marks:\n",
            "  Maths: 54.0\n",
            "  Biology: 67.0\n",
            "Grades:\n",
            "  Maths: F\n",
            "  Biology: C\n"
          ]
        }
      ]
    },
    {
      "cell_type": "markdown",
      "source": [
        "# Grade Management"
      ],
      "metadata": {
        "id": "z7TevQcU9GuE"
      }
    },
    {
      "cell_type": "code",
      "source": [
        "# Add or update grades when needed\n",
        "\n",
        "# need to find the student name in the list\n",
        "\n",
        "def find_student(name):\n",
        "    for student in students:\n",
        "        if student[\"name\"].lower() == name.lower():\n",
        "            return student\n",
        "    return None\n",
        "\n",
        "# to add or update grades.\n",
        "\n",
        "def add_or_update_grades(student_name):\n",
        "  student = find_student(student_name)            #defining the student by fucntion created above\n",
        "  if student:\n",
        "        subject = input(\"Enter subject name you want to update grade for: \").strip()\n",
        "\n",
        "        if subject in student[\"grades\"]:\n",
        "            new_grade = input(f\"Enter new grade for {subject}: \").strip().upper()\n",
        "            student[\"grades\"][subject] = new_grade\n",
        "            print(f\"Grade for {subject} updated to {new_grade}.\")\n",
        "        else:\n",
        "            print(f\"Subject '{subject}' not found for this student.\")\n",
        "  else:\n",
        "        print(\"Student not found!\")\n",
        "\n",
        "student_to_update = input(\"Enter student name to update grades: \")\n",
        "add_or_update_grades(student_to_update)"
      ],
      "metadata": {
        "colab": {
          "base_uri": "https://localhost:8080/"
        },
        "id": "Aw8_zrXv9ai9",
        "outputId": "a4570773-00b7-4d40-ec60-db565ea6b4e9"
      },
      "execution_count": null,
      "outputs": [
        {
          "output_type": "stream",
          "name": "stdout",
          "text": [
            "Enter student name to update grades: Rohaba\n",
            "Enter subject name you want to update grade for: Maths\n",
            "Enter new grade for Maths: B\n",
            "Grade for Maths updated to B.\n"
          ]
        }
      ]
    },
    {
      "cell_type": "markdown",
      "source": [
        "# Delete a Record"
      ],
      "metadata": {
        "id": "rIRdZS1u9iNk"
      }
    },
    {
      "cell_type": "code",
      "source": [
        "def delete_student(student_name):\n",
        "    student = find_student(student_name)\n",
        "    if student:\n",
        "        students.remove(student)\n",
        "        print(f\"Student '{student_name}' has been deleted successfully.\")\n",
        "    else:\n",
        "        print(\"Student not found!\")\n",
        "\n",
        "\n",
        "student_to_delete = input(\"Enter the student's name you want to delete: \")\n",
        "delete_student(student_to_delete)"
      ],
      "metadata": {
        "colab": {
          "base_uri": "https://localhost:8080/"
        },
        "id": "40sXwlN59lvH",
        "outputId": "75c4175d-5294-4819-b254-f621b6a5e23f"
      },
      "execution_count": null,
      "outputs": [
        {
          "output_type": "stream",
          "name": "stdout",
          "text": [
            "Enter the student's name you want to delete: Noreen\n",
            "Student 'Noreen' has been deleted successfully.\n"
          ]
        }
      ]
    },
    {
      "cell_type": "markdown",
      "source": [
        "# Report Card Generation"
      ],
      "metadata": {
        "id": "InlTusD9-Olt"
      }
    },
    {
      "cell_type": "code",
      "source": [
        "# A fucntion that generates information about each student and as this is a report card hence tells about the performance as well\n",
        "\n",
        "def report_card_generation(student): # as generating information for one student hence a student's dictonary.\n",
        "   print(f\"------ Report Card for {student['name']} ------\") #when double quotes are used outside, cannot use double quotes inside\n",
        "   print(f\"Age: {student['age']}\")\n",
        "   print(f\"Class_name : {student['class']}\")\n",
        "   print(f\"Subjects and Grades : {student['grades']}\")\n",
        "\n",
        "   if all(grade == 'A+' for grade in student['grades'].values()): # not using .items() here because we just need the value.\n",
        "        print(\"Comments: Excellent performance!\")\n",
        "   elif any(grade == 'F' for grade in student['grades'].values()):\n",
        "        print(\"Comments: Needs improvement.\")\n",
        "   else:\n",
        "        print(\"Comments: Keep up the good work.\")\n",
        "\n",
        "for student in students:\n",
        "  report_card_generation(student)\n"
      ],
      "metadata": {
        "colab": {
          "base_uri": "https://localhost:8080/"
        },
        "id": "xYf2TsBh-fD3",
        "outputId": "b863b288-48b7-4cd0-df24-6f328cd110e4"
      },
      "execution_count": null,
      "outputs": [
        {
          "output_type": "stream",
          "name": "stdout",
          "text": [
            "------ Report Card for Farzam ------\n",
            "Age: 18\n",
            "Class_name : 12\n",
            "Subjects and Grades : {'Chemistry': 'A+', 'Biology': 'A+'}\n",
            "Comments: Excellent performance!\n",
            "------ Report Card for Jannat ------\n",
            "Age: 17\n",
            "Class_name : 11\n",
            "Subjects and Grades : {'Maths': 'A+', 'Physics': 'A'}\n",
            "Comments: Keep up the good work.\n",
            "------ Report Card for Rohaba ------\n",
            "Age: 16\n",
            "Class_name : 10\n",
            "Subjects and Grades : {'Maths': 'B', 'Biology': 'C'}\n",
            "Comments: Keep up the good work.\n"
          ]
        }
      ]
    },
    {
      "cell_type": "markdown",
      "source": [
        "# Load data from CSV."
      ],
      "metadata": {
        "id": "Ie3TU8stT0hL"
      }
    },
    {
      "cell_type": "code",
      "source": [
        "import csv\n",
        "\n",
        "def load_from_csv(filename=\"students.csv\"):\n",
        "    students = []  # List to store student records\n",
        "    with open(filename, 'r') as file: # r here represents to read\n",
        "        reader = csv.reader(file)\n",
        "        next(reader)  # Skip the header row\n",
        "\n",
        "        for row in reader:\n",
        "            # Extract the data from each row\n",
        "            name = row[0]\n",
        "            age = int(row[1])\n",
        "            class_name = row[2]\n",
        "            subjects = row[3].split(\", \")  # Split subjects by comma\n",
        "            grades = row[4].split(\", \")    # Split grades by comma\n",
        "\n",
        "            # Create a student record dictionary\n",
        "            student_record = {\n",
        "                \"name\": name,\n",
        "                \"age\": age,\n",
        "                \"class\": class_name,\n",
        "                \"subjects\": subjects,\n",
        "                \"grades\": {subjects[i]: grades[i] for i in range(len(subjects))}\n",
        "            }\n",
        "\n",
        "            # Append the student record to the list\n",
        "            students.append(student_record)\n",
        "\n",
        "    return students\n",
        "\n",
        "# Example usage: Load data from CSV file\n",
        "students_loaded = load_from_csv(\"students.csv\")\n",
        "\n",
        "# Print all the loaded student records\n",
        "print(\"\\nLoaded Student Records:\")\n",
        "for student in students_loaded:\n",
        "    print(student)"
      ],
      "metadata": {
        "colab": {
          "base_uri": "https://localhost:8080/"
        },
        "id": "nZVjxoRjVSQ9",
        "outputId": "1854d241-8cfb-4004-a59d-1dc8513e6519"
      },
      "execution_count": null,
      "outputs": [
        {
          "output_type": "stream",
          "name": "stdout",
          "text": [
            "\n",
            "Loaded Student Records:\n",
            "{'name': 'Farzam', 'age': 18, 'class': '12', 'subjects': ['Chemistry', 'Biology'], 'grades': {'Chemistry': 'A+', 'Biology': 'A+'}}\n",
            "{'name': 'Jannat', 'age': 17, 'class': '11', 'subjects': ['Maths', 'Physics'], 'grades': {'Maths': 'A+', 'Physics': 'A'}}\n",
            "{'name': 'Noreen', 'age': 16, 'class': '10', 'subjects': ['Ecommerce', 'Arts'], 'grades': {'Ecommerce': 'A+', 'Arts': 'A'}}\n",
            "{'name': 'Rohaba', 'age': 16, 'class': '10', 'subjects': ['Maths', 'Biology'], 'grades': {'Maths': 'F', 'Biology': 'C'}}\n"
          ]
        }
      ]
    }
  ]
}